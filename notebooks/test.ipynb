{
 "cells": [
  {
   "cell_type": "markdown",
   "metadata": {},
   "source": [
    "## Testing Fraud model by fraud data set"
   ]
  },
  {
   "cell_type": "code",
   "execution_count": 3,
   "metadata": {},
   "outputs": [],
   "source": [
    "import joblib\n",
    "import pandas as pd\n",
    "import sys, os\n",
    "\n",
    "sys.path.append(os.path.abspath(os.path.join('..', 'scripts')))\n",
    "from feature_selection import FeatureSelection \n"
   ]
  },
  {
   "cell_type": "code",
   "execution_count": 4,
   "metadata": {},
   "outputs": [
    {
     "name": "stdout",
     "output_type": "stream",
     "text": [
      "Classification Report:\n",
      "               precision    recall  f1-score   support\n",
      "\n",
      "           0       0.95      1.00      0.98    116878\n",
      "           1       0.99      0.55      0.70     12268\n",
      "\n",
      "    accuracy                           0.96    129146\n",
      "   macro avg       0.97      0.77      0.84    129146\n",
      "weighted avg       0.96      0.96      0.95    129146\n",
      "\n"
     ]
    },
    {
     "data": {
      "image/png": "[encoded data removed]",
      "text/plain": [
       "<Figure size 600x400 with 2 Axes>"
      ]
     },
     "metadata": {},
     "output_type": "display_data"
    }
   ],
   "source": [
    "import pandas as pd\n",
    "import joblib\n",
    "from sklearn.metrics import confusion_matrix, classification_report\n",
    "import seaborn as sns\n",
    "import matplotlib.pyplot as plt\n",
    "\n",
    "# Load the fraud detection dataset \n",
    "fraud_data = pd.read_csv(\"../data/processed_fraud_data.csv\").set_index('user_id')  # Replace with actual dataset path\n",
    "\n",
    "# Load the saved best model\n",
    "best_model = joblib.load(\"../api/decision_tree_fraud_best_model.pkl\")  # Ensure the correct saved model name\n",
    "\n",
    "# Select features and target variable\n",
    "X = fraud_data.drop(columns=[\"class\"])  # Exclude target column\n",
    "y_true = fraud_data[\"class\"]  # Actual labels\n",
    "# Predict fraud using the loaded model\n",
    "y_pred = best_model.predict(X)\n",
    "\n",
    "# Compute and print classification report\n",
    "print(\"Classification Report:\\n\", classification_report(y_true, y_pred))\n",
    "\n",
    "# Compute confusion matrix\n",
    "cm = confusion_matrix(y_true, y_pred)\n",
    "\n",
    "# Plot confusion matrix as a heatmap\n",
    "plt.figure(figsize=(6, 4))\n",
    "sns.heatmap(cm, annot=True, fmt='d', cmap='Blues', xticklabels=['No Fraud', 'Fraud'], yticklabels=['No Fraud', 'Fraud'])\n",
    "plt.xlabel('Predicted Label')\n",
    "plt.ylabel('True Label')\n",
    "plt.title('Confusion Matrix')\n",
    "plt.show()\n",
    "\n"
   ]
  },
  {
   "cell_type": "code",
   "execution_count": 5,
   "metadata": {},
   "outputs": [],
   "source": [
    "# Select features and target variable\n",
    "X = fraud_data.drop(columns=[\"class\"])  # Exclude target column\n",
    "y_true = fraud_data[\"class\"]  # Actual labels"
   ]
  },
  {
   "cell_type": "code",
   "execution_count": 6,
   "metadata": {},
   "outputs": [],
   "source": [
    "\n",
    "# Select only fraud entries (assuming 'class' column is the target variable)\n",
    "fraud_entries = fraud_data[fraud_data[\"class\"] == 1].drop(columns=[\"class\"])  # Exclude target column\n",
    "\n"
   ]
  },
  {
   "cell_type": "code",
   "execution_count": 7,
   "metadata": {},
   "outputs": [
    {
     "data": {
      "text/html": [
       "<div>\n",
       "<style scoped>\n",
       "    .dataframe tbody tr th:only-of-type {\n",
       "        vertical-align: middle;\n",
       "    }\n",
       "\n",
       "    .dataframe tbody tr th {\n",
       "        vertical-align: top;\n",
       "    }\n",
       "\n",
       "    .dataframe thead th {\n",
       "        text-align: right;\n",
       "    }\n",
       "</style>\n",
       "<table border=\"1\" class=\"dataframe\">\n",
       "  <thead>\n",
       "    <tr style=\"text-align: right;\">\n",
       "      <th></th>\n",
       "      <th>purchase_value</th>\n",
       "      <th>age</th>\n",
       "      <th>purchase_delay</th>\n",
       "      <th>hour_of_day</th>\n",
       "      <th>day_of_week</th>\n",
       "      <th>fraud_rate</th>\n",
       "      <th>user_transaction_frequency</th>\n",
       "      <th>device_transaction_frequency</th>\n",
       "      <th>user_transaction_velocity</th>\n",
       "      <th>source_Direct</th>\n",
       "      <th>source_SEO</th>\n",
       "      <th>browser_FireFox</th>\n",
       "      <th>browser_IE</th>\n",
       "      <th>browser_Opera</th>\n",
       "      <th>browser_Safari</th>\n",
       "      <th>sex_M</th>\n",
       "    </tr>\n",
       "    <tr>\n",
       "      <th>user_id</th>\n",
       "      <th></th>\n",
       "      <th></th>\n",
       "      <th></th>\n",
       "      <th></th>\n",
       "      <th></th>\n",
       "      <th></th>\n",
       "      <th></th>\n",
       "      <th></th>\n",
       "      <th></th>\n",
       "      <th></th>\n",
       "      <th></th>\n",
       "      <th></th>\n",
       "      <th></th>\n",
       "      <th></th>\n",
       "      <th></th>\n",
       "      <th></th>\n",
       "    </tr>\n",
       "  </thead>\n",
       "  <tbody>\n",
       "    <tr>\n",
       "      <th>145122</th>\n",
       "      <td>0.877158</td>\n",
       "      <td>-0.595271</td>\n",
       "      <td>-1.471404</td>\n",
       "      <td>-1.086411</td>\n",
       "      <td>-0.006798</td>\n",
       "      <td>0.121794</td>\n",
       "      <td>1</td>\n",
       "      <td>-0.259874</td>\n",
       "      <td>-0.232932</td>\n",
       "      <td>0.0</td>\n",
       "      <td>0.0</td>\n",
       "      <td>0.0</td>\n",
       "      <td>0.0</td>\n",
       "      <td>0.0</td>\n",
       "      <td>0.0</td>\n",
       "      <td>0.0</td>\n",
       "    </tr>\n",
       "    <tr>\n",
       "      <th>59988</th>\n",
       "      <td>-1.197335</td>\n",
       "      <td>0.333314</td>\n",
       "      <td>-1.574394</td>\n",
       "      <td>-1.665264</td>\n",
       "      <td>-1.003270</td>\n",
       "      <td>0.121794</td>\n",
       "      <td>1</td>\n",
       "      <td>1.624177</td>\n",
       "      <td>4.292926</td>\n",
       "      <td>0.0</td>\n",
       "      <td>0.0</td>\n",
       "      <td>0.0</td>\n",
       "      <td>0.0</td>\n",
       "      <td>0.0</td>\n",
       "      <td>0.0</td>\n",
       "      <td>1.0</td>\n",
       "    </tr>\n",
       "    <tr>\n",
       "      <th>326442</th>\n",
       "      <td>-1.197335</td>\n",
       "      <td>0.333314</td>\n",
       "      <td>-1.574394</td>\n",
       "      <td>-1.665264</td>\n",
       "      <td>-1.003270</td>\n",
       "      <td>0.121794</td>\n",
       "      <td>1</td>\n",
       "      <td>1.624177</td>\n",
       "      <td>4.292926</td>\n",
       "      <td>0.0</td>\n",
       "      <td>0.0</td>\n",
       "      <td>0.0</td>\n",
       "      <td>0.0</td>\n",
       "      <td>0.0</td>\n",
       "      <td>0.0</td>\n",
       "      <td>1.0</td>\n",
       "    </tr>\n",
       "    <tr>\n",
       "      <th>330259</th>\n",
       "      <td>-1.197335</td>\n",
       "      <td>0.333314</td>\n",
       "      <td>-1.574394</td>\n",
       "      <td>-1.665264</td>\n",
       "      <td>-1.003270</td>\n",
       "      <td>0.121794</td>\n",
       "      <td>1</td>\n",
       "      <td>1.624177</td>\n",
       "      <td>4.292926</td>\n",
       "      <td>0.0</td>\n",
       "      <td>0.0</td>\n",
       "      <td>0.0</td>\n",
       "      <td>0.0</td>\n",
       "      <td>0.0</td>\n",
       "      <td>0.0</td>\n",
       "      <td>1.0</td>\n",
       "    </tr>\n",
       "    <tr>\n",
       "      <th>232759</th>\n",
       "      <td>-1.197335</td>\n",
       "      <td>0.333314</td>\n",
       "      <td>-1.574394</td>\n",
       "      <td>-1.665264</td>\n",
       "      <td>-1.003270</td>\n",
       "      <td>0.121794</td>\n",
       "      <td>1</td>\n",
       "      <td>1.624177</td>\n",
       "      <td>4.292926</td>\n",
       "      <td>0.0</td>\n",
       "      <td>0.0</td>\n",
       "      <td>0.0</td>\n",
       "      <td>0.0</td>\n",
       "      <td>0.0</td>\n",
       "      <td>0.0</td>\n",
       "      <td>1.0</td>\n",
       "    </tr>\n",
       "  </tbody>\n",
       "</table>\n",
       "</div>"
      ],
      "text/plain": [
       "         purchase_value       age  purchase_delay  hour_of_day  day_of_week  \\\n",
       "user_id                                                                       \n",
       "145122         0.877158 -0.595271       -1.471404    -1.086411    -0.006798   \n",
       "59988         -1.197335  0.333314       -1.574394    -1.665264    -1.003270   \n",
       "326442        -1.197335  0.333314       -1.574394    -1.665264    -1.003270   \n",
       "330259        -1.197335  0.333314       -1.574394    -1.665264    -1.003270   \n",
       "232759        -1.197335  0.333314       -1.574394    -1.665264    -1.003270   \n",
       "\n",
       "         fraud_rate  user_transaction_frequency  device_transaction_frequency  \\\n",
       "user_id                                                                         \n",
       "145122     0.121794                           1                     -0.259874   \n",
       "59988      0.121794                           1                      1.624177   \n",
       "326442     0.121794                           1                      1.624177   \n",
       "330259     0.121794                           1                      1.624177   \n",
       "232759     0.121794                           1                      1.624177   \n",
       "\n",
       "         user_transaction_velocity  source_Direct  source_SEO  \\\n",
       "user_id                                                         \n",
       "145122                   -0.232932            0.0         0.0   \n",
       "59988                     4.292926            0.0         0.0   \n",
       "326442                    4.292926            0.0         0.0   \n",
       "330259                    4.292926            0.0         0.0   \n",
       "232759                    4.292926            0.0         0.0   \n",
       "\n",
       "         browser_FireFox  browser_IE  browser_Opera  browser_Safari  sex_M  \n",
       "user_id                                                                     \n",
       "145122               0.0         0.0            0.0             0.0    0.0  \n",
       "59988                0.0         0.0            0.0             0.0    1.0  \n",
       "326442               0.0         0.0            0.0             0.0    1.0  \n",
       "330259               0.0         0.0            0.0             0.0    1.0  \n",
       "232759               0.0         0.0            0.0             0.0    1.0  "
      ]
     },
     "execution_count": 7,
     "metadata": {},
     "output_type": "execute_result"
    }
   ],
   "source": [
    "fraud_entries.head()"
   ]
  },
  {
   "cell_type": "code",
   "execution_count": 14,
   "metadata": {},
   "outputs": [],
   "source": [
    "#fraud_entries = fraud_entries.drop(columns=[\"user_id\"])\n"
   ]
  },
  {
   "cell_type": "code",
   "execution_count": 9,
   "metadata": {},
   "outputs": [],
   "source": [
    "\n",
    "# Predict fraud using the loaded model\n",
    "fraud_predictions = best_model.predict(fraud_entries)\n"
   ]
  },
  {
   "cell_type": "code",
   "execution_count": 10,
   "metadata": {},
   "outputs": [
    {
     "name": "stdout",
     "output_type": "stream",
     "text": [
      "         predicted_fraud\n",
      "user_id                 \n",
      "145122               0.0\n",
      "59988                1.0\n",
      "326442               1.0\n",
      "330259               1.0\n",
      "232759               1.0\n",
      "...                  ...\n",
      "17463                0.0\n",
      "66451                0.0\n",
      "371436               0.0\n",
      "208446               0.0\n",
      "126332               0.0\n",
      "\n",
      "[12268 rows x 1 columns]\n"
     ]
    }
   ],
   "source": [
    "\n",
    "import numpy as np\n",
    "# Add predictions back to the dataframe\n",
    "fraud_data.loc[fraud_data[\"class\"] == 1, \"predicted_fraud\"] = fraud_predictions\n",
    "\n",
    "# Display results\n",
    "print(fraud_data[fraud_data[\"class\"] == 1][[\"predicted_fraud\"]])  # Check fraud predictions"
   ]
  },
  {
   "cell_type": "code",
   "execution_count": 11,
   "metadata": {},
   "outputs": [
    {
     "name": "stdout",
     "output_type": "stream",
     "text": [
      "{0: 5568, 1: 6700}\n"
     ]
    }
   ],
   "source": [
    "unique, counts = np.unique(fraud_predictions, return_counts=True)\n",
    "print(dict(zip(unique, counts)))"
   ]
  },
  {
   "cell_type": "code",
   "execution_count": 12,
   "metadata": {},
   "outputs": [
    {
     "data": {
      "image/png": "[encoded data removed]",
      "text/plain": [
       "<Figure size 640x480 with 1 Axes>"
      ]
     },
     "metadata": {},
     "output_type": "display_data"
    }
   ],
   "source": [
    "import matplotlib.pyplot as plt\n",
    "\n",
    "plt.hist(fraud_predictions, bins=50, edgecolor='black')\n",
    "plt.xlabel('Fraud Probability')\n",
    "plt.ylabel('Frequency')\n",
    "plt.title('Distribution of Fraud Predictions')\n",
    "plt.show()\n"
   ]
  },
  {
   "cell_type": "code",
   "execution_count": 13,
   "metadata": {},
   "outputs": [
    {
     "name": "stdout",
     "output_type": "stream",
     "text": [
      "{0: 5568, 1: 6700}\n"
     ]
    }
   ],
   "source": [
    "binary_predictions = (fraud_predictions >= 0.5).astype(int)\n",
    "unique, counts = np.unique(binary_predictions, return_counts=True)\n",
    "print(dict(zip(unique, counts)))  # {0: count_non_fraud, 1: count_fraud}\n"
   ]
  },
  {
   "cell_type": "code",
   "execution_count": null,
   "metadata": {},
   "outputs": [
    {
     "name": "stdout",
     "output_type": "stream",
     "text": [
      "Predictions < 0.1: 5568\n",
      "Predictions > 0.9: 6700\n"
     ]
    }
   ],
   "source": [
    "\n",
    "print(f\"Predictions < 0.1: {sum(fraud_predictions < 0.1)}\")\n",
    "print(f\"Predictions > 0.9: {sum(fraud_predictions > 0.9)}\")\n"
   ]
  },
  {
   "cell_type": "code",
   "execution_count": null,
   "metadata": {},
   "outputs": [],
   "source": []
  },
  {
   "cell_type": "markdown",
   "metadata": {},
   "source": [
    "## Testing Credit model by fraud data set"
   ]
  },
  {
   "cell_type": "code",
   "execution_count": 15,
   "metadata": {},
   "outputs": [],
   "source": [
    "# Load the credit  dataset \n",
    "credit_data = pd.read_csv(\"../data/creditcard.csv\")  # Replace with actual dataset path\n",
    "\n",
    "# Load the saved best model\n",
    "credit_best_model = joblib.load(\"../api/mlp_creditcard_best_model.pkl\")  # Ensure the correct saved model name\n",
    "\n"
   ]
  },
  {
   "cell_type": "code",
   "execution_count": 18,
   "metadata": {},
   "outputs": [
    {
     "name": "stdout",
     "output_type": "stream",
     "text": [
      "Classification Report:\n",
      "               precision    recall  f1-score   support\n",
      "\n",
      "           0       1.00      1.00      1.00    284315\n",
      "           1       0.94      0.89      0.91       492\n",
      "\n",
      "    accuracy                           1.00    284807\n",
      "   macro avg       0.97      0.94      0.96    284807\n",
      "weighted avg       1.00      1.00      1.00    284807\n",
      "\n"
     ]
    },
    {
     "data": {
      "image/png": "[encoded data removed]",
      "text/plain": [
       "<Figure size 600x400 with 2 Axes>"
      ]
     },
     "metadata": {},
     "output_type": "display_data"
    }
   ],
   "source": [
    "import pandas as pd\n",
    "import joblib\n",
    "from sklearn.metrics import confusion_matrix, classification_report\n",
    "import seaborn as sns\n",
    "import matplotlib.pyplot as plt\n",
    "\n",
    "\n",
    "# Select features and target variable\n",
    "credit_X = credit_data.drop(columns=[\"Class\"])  # Exclude target column\n",
    "credit_y_true = credit_data[\"Class\"]  # Actual labels\n",
    "# Predict fraud using the loaded model\n",
    "credit_y_pred = credit_best_model.predict(credit_X)\n",
    "\n",
    "# Compute and print classification report\n",
    "print(\"Classification Report:\\n\", classification_report(credit_y_true, credit_y_pred))\n",
    "\n",
    "# Compute confusion matrix\n",
    "credit_cm = confusion_matrix(credit_y_true, credit_y_pred)\n",
    "\n",
    "# Plot confusion matrix as a heatmap\n",
    "plt.figure(figsize=(6, 4))\n",
    "sns.heatmap(credit_cm, annot=True, fmt='d', cmap='Blues', xticklabels=['No Fraud', 'Fraud'], yticklabels=['No Fraud', 'Fraud'])\n",
    "plt.xlabel('Predicted Label')\n",
    "plt.ylabel('True Label')\n",
    "plt.title('Confusion Matrix')\n",
    "plt.show()\n",
    "\n"
   ]
  },
  {
   "cell_type": "code",
   "execution_count": null,
   "metadata": {},
   "outputs": [
    {
     "data": {
      "text/html": [
       "<div>\n",
       "<style scoped>\n",
       "    .dataframe tbody tr th:only-of-type {\n",
       "        vertical-align: middle;\n",
       "    }\n",
       "\n",
       "    .dataframe tbody tr th {\n",
       "        vertical-align: top;\n",
       "    }\n",
       "\n",
       "    .dataframe thead th {\n",
       "        text-align: right;\n",
       "    }\n",
       "</style>\n",
       "<table border=\"1\" class=\"dataframe\">\n",
       "  <thead>\n",
       "    <tr style=\"text-align: right;\">\n",
       "      <th></th>\n",
       "      <th>Time</th>\n",
       "      <th>V1</th>\n",
       "      <th>V2</th>\n",
       "      <th>V3</th>\n",
       "      <th>V4</th>\n",
       "      <th>V5</th>\n",
       "      <th>V6</th>\n",
       "      <th>V7</th>\n",
       "      <th>V8</th>\n",
       "      <th>V9</th>\n",
       "      <th>...</th>\n",
       "      <th>V21</th>\n",
       "      <th>V22</th>\n",
       "      <th>V23</th>\n",
       "      <th>V24</th>\n",
       "      <th>V25</th>\n",
       "      <th>V26</th>\n",
       "      <th>V27</th>\n",
       "      <th>V28</th>\n",
       "      <th>Amount</th>\n",
       "      <th>Class</th>\n",
       "    </tr>\n",
       "  </thead>\n",
       "  <tbody>\n",
       "    <tr>\n",
       "      <th>0</th>\n",
       "      <td>0.0</td>\n",
       "      <td>-1.359807</td>\n",
       "      <td>-0.072781</td>\n",
       "      <td>2.536347</td>\n",
       "      <td>1.378155</td>\n",
       "      <td>-0.338321</td>\n",
       "      <td>0.462388</td>\n",
       "      <td>0.239599</td>\n",
       "      <td>0.098698</td>\n",
       "      <td>0.363787</td>\n",
       "      <td>...</td>\n",
       "      <td>-0.018307</td>\n",
       "      <td>0.277838</td>\n",
       "      <td>-0.110474</td>\n",
       "      <td>0.066928</td>\n",
       "      <td>0.128539</td>\n",
       "      <td>-0.189115</td>\n",
       "      <td>0.133558</td>\n",
       "      <td>-0.021053</td>\n",
       "      <td>149.62</td>\n",
       "      <td>0</td>\n",
       "    </tr>\n",
       "    <tr>\n",
       "      <th>1</th>\n",
       "      <td>0.0</td>\n",
       "      <td>1.191857</td>\n",
       "      <td>0.266151</td>\n",
       "      <td>0.166480</td>\n",
       "      <td>0.448154</td>\n",
       "      <td>0.060018</td>\n",
       "      <td>-0.082361</td>\n",
       "      <td>-0.078803</td>\n",
       "      <td>0.085102</td>\n",
       "      <td>-0.255425</td>\n",
       "      <td>...</td>\n",
       "      <td>-0.225775</td>\n",
       "      <td>-0.638672</td>\n",
       "      <td>0.101288</td>\n",
       "      <td>-0.339846</td>\n",
       "      <td>0.167170</td>\n",
       "      <td>0.125895</td>\n",
       "      <td>-0.008983</td>\n",
       "      <td>0.014724</td>\n",
       "      <td>2.69</td>\n",
       "      <td>0</td>\n",
       "    </tr>\n",
       "    <tr>\n",
       "      <th>2</th>\n",
       "      <td>1.0</td>\n",
       "      <td>-1.358354</td>\n",
       "      <td>-1.340163</td>\n",
       "      <td>1.773209</td>\n",
       "      <td>0.379780</td>\n",
       "      <td>-0.503198</td>\n",
       "      <td>1.800499</td>\n",
       "      <td>0.791461</td>\n",
       "      <td>0.247676</td>\n",
       "      <td>-1.514654</td>\n",
       "      <td>...</td>\n",
       "      <td>0.247998</td>\n",
       "      <td>0.771679</td>\n",
       "      <td>0.909412</td>\n",
       "      <td>-0.689281</td>\n",
       "      <td>-0.327642</td>\n",
       "      <td>-0.139097</td>\n",
       "      <td>-0.055353</td>\n",
       "      <td>-0.059752</td>\n",
       "      <td>378.66</td>\n",
       "      <td>0</td>\n",
       "    </tr>\n",
       "    <tr>\n",
       "      <th>3</th>\n",
       "      <td>1.0</td>\n",
       "      <td>-0.966272</td>\n",
       "      <td>-0.185226</td>\n",
       "      <td>1.792993</td>\n",
       "      <td>-0.863291</td>\n",
       "      <td>-0.010309</td>\n",
       "      <td>1.247203</td>\n",
       "      <td>0.237609</td>\n",
       "      <td>0.377436</td>\n",
       "      <td>-1.387024</td>\n",
       "      <td>...</td>\n",
       "      <td>-0.108300</td>\n",
       "      <td>0.005274</td>\n",
       "      <td>-0.190321</td>\n",
       "      <td>-1.175575</td>\n",
       "      <td>0.647376</td>\n",
       "      <td>-0.221929</td>\n",
       "      <td>0.062723</td>\n",
       "      <td>0.061458</td>\n",
       "      <td>123.50</td>\n",
       "      <td>0</td>\n",
       "    </tr>\n",
       "    <tr>\n",
       "      <th>4</th>\n",
       "      <td>2.0</td>\n",
       "      <td>-1.158233</td>\n",
       "      <td>0.877737</td>\n",
       "      <td>1.548718</td>\n",
       "      <td>0.403034</td>\n",
       "      <td>-0.407193</td>\n",
       "      <td>0.095921</td>\n",
       "      <td>0.592941</td>\n",
       "      <td>-0.270533</td>\n",
       "      <td>0.817739</td>\n",
       "      <td>...</td>\n",
       "      <td>-0.009431</td>\n",
       "      <td>0.798278</td>\n",
       "      <td>-0.137458</td>\n",
       "      <td>0.141267</td>\n",
       "      <td>-0.206010</td>\n",
       "      <td>0.502292</td>\n",
       "      <td>0.219422</td>\n",
       "      <td>0.215153</td>\n",
       "      <td>69.99</td>\n",
       "      <td>0</td>\n",
       "    </tr>\n",
       "  </tbody>\n",
       "</table>\n",
       "<p>5 rows × 31 columns</p>\n",
       "</div>"
      ],
      "text/plain": [
       "   Time        V1        V2        V3        V4        V5        V6        V7  \\\n",
       "0   0.0 -1.359807 -0.072781  2.536347  1.378155 -0.338321  0.462388  0.239599   \n",
       "1   0.0  1.191857  0.266151  0.166480  0.448154  0.060018 -0.082361 -0.078803   \n",
       "2   1.0 -1.358354 -1.340163  1.773209  0.379780 -0.503198  1.800499  0.791461   \n",
       "3   1.0 -0.966272 -0.185226  1.792993 -0.863291 -0.010309  1.247203  0.237609   \n",
       "4   2.0 -1.158233  0.877737  1.548718  0.403034 -0.407193  0.095921  0.592941   \n",
       "\n",
       "         V8        V9  ...       V21       V22       V23       V24       V25  \\\n",
       "0  0.098698  0.363787  ... -0.018307  0.277838 -0.110474  0.066928  0.128539   \n",
       "1  0.085102 -0.255425  ... -0.225775 -0.638672  0.101288 -0.339846  0.167170   \n",
       "2  0.247676 -1.514654  ...  0.247998  0.771679  0.909412 -0.689281 -0.327642   \n",
       "3  0.377436 -1.387024  ... -0.108300  0.005274 -0.190321 -1.175575  0.647376   \n",
       "4 -0.270533  0.817739  ... -0.009431  0.798278 -0.137458  0.141267 -0.206010   \n",
       "\n",
       "        V26       V27       V28  Amount  Class  \n",
       "0 -0.189115  0.133558 -0.021053  149.62      0  \n",
       "1  0.125895 -0.008983  0.014724    2.69      0  \n",
       "2 -0.139097 -0.055353 -0.059752  378.66      0  \n",
       "3 -0.221929  0.062723  0.061458  123.50      0  \n",
       "4  0.502292  0.219422  0.215153   69.99      0  \n",
       "\n",
       "[5 rows x 31 columns]"
      ]
     },
     "execution_count": 13,
     "metadata": {},
     "output_type": "execute_result"
    }
   ],
   "source": [
    "credit_data.head()"
   ]
  },
  {
   "cell_type": "code",
   "execution_count": null,
   "metadata": {},
   "outputs": [],
   "source": [
    "# Select only fraud entries (assuming 'class' column is the target variable)\n",
    "credit_fraud_entries = credit_data[credit_data[\"Class\"] == 1].drop(columns=[\"Class\"])  # Exclude target column\n",
    "\n"
   ]
  },
  {
   "cell_type": "code",
   "execution_count": null,
   "metadata": {},
   "outputs": [],
   "source": [
    "# Predict fraud using the loaded model\n",
    "credit_predictions = credit_best_model.predict(credit_fraud_entries)\n"
   ]
  },
  {
   "cell_type": "code",
   "execution_count": null,
   "metadata": {},
   "outputs": [
    {
     "name": "stdout",
     "output_type": "stream",
     "text": [
      "        predicted_fraud\n",
      "541                 1.0\n",
      "623                 0.0\n",
      "4920                1.0\n",
      "6108                1.0\n",
      "6329                0.0\n",
      "...                 ...\n",
      "279863              1.0\n",
      "280143              1.0\n",
      "280149              1.0\n",
      "281144              1.0\n",
      "281674              0.0\n",
      "\n",
      "[492 rows x 1 columns]\n"
     ]
    }
   ],
   "source": [
    "\n",
    "import numpy as np\n",
    "# Add predictions back to the dataframe\n",
    "credit_data.loc[credit_data[\"Class\"] == 1, \"predicted_fraud\"] = credit_predictions\n",
    "\n",
    "# Display results\n",
    "print(credit_data[credit_data[\"Class\"] == 1][[\"predicted_fraud\"]])  # Check fraud predictions"
   ]
  },
  {
   "cell_type": "code",
   "execution_count": null,
   "metadata": {},
   "outputs": [
    {
     "name": "stdout",
     "output_type": "stream",
     "text": [
      "{0: 56, 1: 436}\n"
     ]
    }
   ],
   "source": [
    "unique, counts = np.unique(credit_predictions, return_counts=True)\n",
    "print(dict(zip(unique, counts)))"
   ]
  },
  {
   "cell_type": "code",
   "execution_count": null,
   "metadata": {},
   "outputs": [
    {
     "data": {
      "image/png": "[encoded data removed]",
      "text/plain": [
       "<Figure size 640x480 with 1 Axes>"
      ]
     },
     "metadata": {},
     "output_type": "display_data"
    }
   ],
   "source": [
    "import matplotlib.pyplot as plt\n",
    "\n",
    "plt.hist(credit_predictions, bins=50, edgecolor='black')\n",
    "plt.xlabel('Fraud Probability')\n",
    "plt.ylabel('Frequency')\n",
    "plt.title('Distribution of Fraud Predictions')\n",
    "plt.show()\n"
   ]
  },
  {
   "cell_type": "code",
   "execution_count": null,
   "metadata": {},
   "outputs": [
    {
     "name": "stdout",
     "output_type": "stream",
     "text": [
      "{0: 56, 1: 436}\n"
     ]
    }
   ],
   "source": [
    "credit_binary_predictions = (credit_predictions >= 0.5).astype(int)\n",
    "unique, counts = np.unique(credit_binary_predictions, return_counts=True)\n",
    "print(dict(zip(unique, counts)))  # {0: count_non_fraud, 1: count_fraud}\n",
    "\n",
    "\n"
   ]
  },
  {
   "cell_type": "code",
   "execution_count": null,
   "metadata": {},
   "outputs": [
    {
     "name": "stdout",
     "output_type": "stream",
     "text": [
      "Predictions < 0.1: 56\n",
      "Predictions > 0.9: 436\n"
     ]
    },
    {
     "ename": "",
     "evalue": "",
     "output_type": "error",
     "traceback": [
      "\u001b[1;31mThe Kernel crashed while executing code in the current cell or a previous cell. \n",
      "\u001b[1;31mPlease review the code in the cell(s) to identify a possible cause of the failure. \n",
      "\u001b[1;31mClick <a href='https://aka.ms/vscodeJupyterKernelCrash'>here</a> for more info. \n",
      "\u001b[1;31mView Jupyter <a href='command:jupyter.viewOutput'>log</a> for further details."
     ]
    }
   ],
   "source": [
    "print(f\"Predictions < 0.1: {sum(credit_predictions < 0.1)}\")\n",
    "print(f\"Predictions > 0.9: {sum(credit_predictions > 0.9)}\")"
   ]
  },
  {
   "cell_type": "code",
   "execution_count": null,
   "metadata": {},
   "outputs": [],
   "source": []
  }
 ],
 "metadata": {
  "kernelspec": {
   "display_name": "base",
   "language": "python",
   "name": "python3"
  },
  "language_info": {
   "codemirror_mode": {
    "name": "ipython",
    "version": 3
   },
   "file_extension": ".py",
   "mimetype": "text/x-python",
   "name": "python",
   "nbconvert_exporter": "python",
   "pygments_lexer": "ipython3",
   "version": "3.12.3"
  }
 },
 "nbformat": 4,
 "nbformat_minor": 2
}
